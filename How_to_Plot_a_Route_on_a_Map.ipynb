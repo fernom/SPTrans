{
 "cells": [
  {
   "cell_type": "markdown",
   "id": "ea73efb2",
   "metadata": {},
   "source": [
    "## How to Plot a Route on a Map\n",
    "\n",
    "notebook of the article below  \n",
    "https://towardsdatascience.com/how-to-plot-a-route-on-a-map-fb900a7f6605  \n",
    "Please note that the API key is missing, you must register on the website indicated in the article (credit card required)  "
   ]
  },
  {
   "cell_type": "code",
   "execution_count": null,
   "id": "3791d4dd",
   "metadata": {},
   "outputs": [],
   "source": [
    "from geopy.geocoders import Nominatim"
   ]
  },
  {
   "cell_type": "code",
   "execution_count": null,
   "id": "1c378494",
   "metadata": {},
   "outputs": [],
   "source": [
    "def get_lat_long_from_address(address):       \n",
    "    locator = Nominatim(user_agent='myGeocoder')\n",
    "    location = locator.geocode(address)\n",
    "    return location.latitude, location.longitude"
   ]
  },
  {
   "cell_type": "code",
   "execution_count": null,
   "id": "5d3dd28f",
   "metadata": {},
   "outputs": [],
   "source": [
    "# example\n",
    "address = 'Zeeweg 94, 2051 EC Overveen'\n",
    "get_lat_long_from_address(address)"
   ]
  },
  {
   "cell_type": "code",
   "execution_count": null,
   "id": "02a942bc",
   "metadata": {},
   "outputs": [],
   "source": [
    "import requests"
   ]
  },
  {
   "cell_type": "code",
   "execution_count": null,
   "id": "8287cf0a",
   "metadata": {},
   "outputs": [],
   "source": [
    "def get_directions_response(lat1, long1, lat2, long2, mode='drive'):\n",
    "    url = \"https://route-and-directions.p.rapidapi.com/v1/routing\"\n",
    "    key = \"YOUR-API-KEY\"\n",
    "    host = \"route-and-directions.p.rapidapi.com\"\n",
    "    headers = {\"X-RapidAPI-Key\": key, \"X-RapidAPI-Host\": host}\n",
    "    querystring = {\"waypoints\":f\"{str(lat1)},{str(long1)}|{str(lat2)},{str(long2)}\",\"mode\":mode}\n",
    "    response = requests.request(\"GET\", url, headers=headers, params=querystring)\n",
    "    return response"
   ]
  },
  {
   "cell_type": "code",
   "execution_count": null,
   "id": "0be75957",
   "metadata": {},
   "outputs": [],
   "source": [
    "response = get_directions_response(52.4013, 4.5425, 52.402, 4.5426)"
   ]
  },
  {
   "cell_type": "code",
   "execution_count": null,
   "id": "255cfed9",
   "metadata": {
    "scrolled": false
   },
   "outputs": [],
   "source": [
    "response.json()"
   ]
  },
  {
   "cell_type": "code",
   "execution_count": null,
   "id": "c1ba9abd",
   "metadata": {},
   "outputs": [],
   "source": [
    "import folium\n",
    "import pandas as pd"
   ]
  },
  {
   "cell_type": "code",
   "execution_count": null,
   "id": "46dafb2f",
   "metadata": {},
   "outputs": [],
   "source": [
    "def create_map(response):\n",
    "    # use the response\n",
    "    mls = response.json()['features'][0]['geometry']['coordinates']\n",
    "    points = [(i[1], i[0]) for i in mls[0]]   \n",
    "    m = folium.Map()  \n",
    "    \n",
    "    # add marker for the start and ending points\n",
    "    for point in [points[0], points[-1]]:\n",
    "        folium.Marker(point).add_to(m) \n",
    "        \n",
    "    # add the lines\n",
    "    folium.PolyLine(points, weight=5, opacity=1).add_to(m)   \n",
    "    # create optimal zoom\n",
    "    df = pd.DataFrame(mls[0]).rename(columns={0:'Lon', 1:'Lat'})[['Lat', 'Lon']]\n",
    "    sw = df[['Lat', 'Lon']].min().values.tolist()\n",
    "    ne = df[['Lat', 'Lon']].max().values.tolist()\n",
    "    m.fit_bounds([sw, ne])\n",
    "    return m"
   ]
  },
  {
   "cell_type": "code",
   "execution_count": null,
   "id": "a1edc90f",
   "metadata": {},
   "outputs": [],
   "source": [
    "m = create_map(response)"
   ]
  },
  {
   "cell_type": "code",
   "execution_count": null,
   "id": "f19090f8",
   "metadata": {},
   "outputs": [],
   "source": [
    "m"
   ]
  }
 ],
 "metadata": {
  "kernelspec": {
   "display_name": "Python 3 (ipykernel)",
   "language": "python",
   "name": "python3"
  },
  "language_info": {
   "codemirror_mode": {
    "name": "ipython",
    "version": 3
   },
   "file_extension": ".py",
   "mimetype": "text/x-python",
   "name": "python",
   "nbconvert_exporter": "python",
   "pygments_lexer": "ipython3",
   "version": "3.8.10"
  }
 },
 "nbformat": 4,
 "nbformat_minor": 5
}
